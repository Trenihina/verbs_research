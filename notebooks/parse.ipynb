{
 "cells": [
  {
   "cell_type": "code",
   "execution_count": 69,
   "metadata": {},
   "outputs": [],
   "source": [
    "from conllu import parse\n",
    "\n",
    "from nltk import DependencyGraph"
   ]
  },
  {
   "cell_type": "code",
   "execution_count": 84,
   "metadata": {},
   "outputs": [],
   "source": [
    "example = '''Олег Цингер не только анималист, он пишет пейзажи, делает иллюстрации  ( маслом!) к Гоголю, работает в довольно широком диапазоне.  Пишет она письмо к своему батюшке родимому и сестрицам своим любезныим: \" Не плачьте обо мне, не горюйте, я живу во дворце у зверя лесного, чуда морского, как королевишна; самого его не вижу и не слышу, а пишет он ко мне на стене беломраморной, словесами огненными, и знает он всё, что у меня на мысли, и тое ж минутою всё исполняет, и не хочет. Вчера вспоминала Вас, когда писала к Н.  А.  Шиповой, сына которой Вы так напоминаете мне не столько чертами лица, сколько чем-то неуловимым в манерах, взгляде и даже голосе. Читайте что я писал ― «к оригинальной теме».'''\n",
    "with open('example.txt', 'w', encoding = \"UTF-8\") as f:\n",
    "    f.write(example)"
   ]
  },
  {
   "cell_type": "code",
   "execution_count": 85,
   "metadata": {},
   "outputs": [
    {
     "name": "stderr",
     "output_type": "stream",
     "text": [
      "Loading UDPipe model: done.\n"
     ]
    }
   ],
   "source": [
    "! udpipe.exe --tokenize --tag --parse\\\n",
    "  russian-syntagrus-ud-2.0-170801.udpipe example.txt > parsed_example.conllu"
   ]
  },
  {
   "cell_type": "code",
   "execution_count": 90,
   "metadata": {},
   "outputs": [],
   "source": [
    "with open('parsed_example.conllu', 'r', encoding = \"UTF-8\") as f:\n",
    "    my_example = f.read()"
   ]
  },
  {
   "cell_type": "code",
   "execution_count": 109,
   "metadata": {},
   "outputs": [
    {
     "name": "stdout",
     "output_type": "stream",
     "text": [
      "=Acc|Gender=Fem|Number=Plur\t11\tobj\t_\tSpacesAfter=\\s\\s\n",
      "13\t(\t(\tPUNCT\t_\t_\t14\tpunct\t_\t_\n",
      "14\tмаслом\tмасло\tNOUN\t_\tAnimacy=Inan|Case=Ins|Gender=Neut|Number=Sing\t12\tparataxis\t_\tSpaceAfter=No\n",
      "15\t!\t!\tPUNCT\t_\t_\t14\tpunct\t_\tSpaceAfter=No\n",
      "16\t)\t)\tPUNCT\t_\t_\t14\tpunct\t_\t_\n",
      "17\tк\tк\tADP\t_\t_\t18\tcase\t_\t_\n",
      "18\tГоголю\tГоголь\tPROPN\t_\tAnimacy=Inan|Case=Dat|Gender=Masc|Number=Sing\t12\tnmod\t_\tSpaceAfter=No\n",
      "19\t,\t,\tPUNCT\t_\t_\t18\tpunct\t_\t_\n",
      "20\tработает\tработать\tVERB\t_\tAspect=Imp|Mood=Ind|Number=Sing|Person=3|Tense=Pres|VerbForm=Fin|Voice=Act\t5\tconj\t_\t_\n",
      "21\tв\tв\tADP\t_\t_\t24\tcase\t_\t_\n",
      "22\tдовольно\tдовольно\tADV\t_\tDegree=Pos\t23\tadvmod\t_\t_\n",
      "23\tшироком\tширокий\tADJ\t_\tCase=Loc|Degree=Pos|Gender=Masc|Number=Sing\t24\tamod\t_\t_\n",
      "24\tдиапазоне\tдиапазон\tNOUN\t_\tAnimacy=Inan|Case=Loc|Gender=Masc|Number=Sing\t20\tobl\t_\tSpaceAfter=No\n",
      "25\t.\t.\tPUNCT\t_\t_\t24\tpunct\t_\tSpacesAfter=\\s\\s\n",
      "\n"
     ]
    }
   ],
   "source": [
    "print(my_example[1000:1823])"
   ]
  },
  {
   "cell_type": "code",
   "execution_count": 98,
   "metadata": {
    "scrolled": false
   },
   "outputs": [
    {
     "data": {
      "text/plain": [
       "OrderedDict([('id', 1),\n",
       "             ('form', 'Олег'),\n",
       "             ('lemma', 'олег'),\n",
       "             ('upostag', 'NOUN'),\n",
       "             ('xpostag', None),\n",
       "             ('feats',\n",
       "              OrderedDict([('Animacy', 'Anim'),\n",
       "                           ('Case', 'Nom'),\n",
       "                           ('Gender', 'Masc'),\n",
       "                           ('Number', 'Sing')])),\n",
       "             ('head', 5),\n",
       "             ('deprel', 'nsubj'),\n",
       "             ('deps', None),\n",
       "             ('misc', None)])"
      ]
     },
     "execution_count": 98,
     "metadata": {},
     "output_type": "execute_result"
    }
   ],
   "source": [
    "sentences = parse(my_example)\n",
    "sentence = sentences[0]\n",
    "sentence[0]"
   ]
  },
  {
   "cell_type": "code",
   "execution_count": 135,
   "metadata": {},
   "outputs": [],
   "source": [
    "def get_clean_conllu(treebank):\n",
    "    sentences = treebank.strip('\\n').split('\\n\\n')\n",
    "    for i, sent in enumerate(sentences):\n",
    "        # убираем комментарии\n",
    "        sentences[i] = '\\n'.join([line for line in sent.split('\\n') if line[0] != '#'])\n",
    "        sentences[i] = sentences[i].replace('root', 'ROOT')\n",
    "    return sentences"
   ]
  },
  {
   "cell_type": "code",
   "execution_count": 137,
   "metadata": {},
   "outputs": [],
   "source": [
    "s = get_clean_conllu(my_example)"
   ]
  },
  {
   "cell_type": "code",
   "execution_count": 138,
   "metadata": {},
   "outputs": [
    {
     "name": "stdout",
     "output_type": "stream",
     "text": [
      "1\tВчера\tвчера\tADV\t_\tDegree=Pos\t2\tadvmod\t_\t_\n",
      "2\tвспоминала\tвспоминать\tVERB\t_\tAspect=Imp|Gender=Fem|Mood=Ind|Number=Sing|Tense=Past|VerbForm=Fin|Voice=Act\t0\tROOT\t_\t_\n",
      "3\tВас\tвы\tPRON\t_\tCase=Acc|Number=Plur|Person=2\t2\tobj\t_\tSpaceAfter=No\n",
      "4\t,\t,\tPUNCT\t_\t_\t3\tpunct\t_\t_\n",
      "5\tкогда\tкогда\tSCONJ\t_\t_\t2\tmark\t_\t_\n",
      "6\tписала\tписать\tVERB\t_\tAspect=Imp|Gender=Fem|Mood=Ind|Number=Sing|Tense=Past|VerbForm=Fin|Voice=Act\t2\tadvcl\t_\t_\n",
      "7\tк\tк\tADP\t_\t_\t8\tcase\t_\t_\n",
      "8\tН.\tн.\tPROPN\t_\tAnimacy=Anim|Case=Ins|Gender=Fem|Number=Sing\t6\tobl\t_\tSpacesAfter= \\s\n",
      "9\tА.\tа.\tPROPN\t_\tAnimacy=Anim|Case=Ins|Gender=Fem|Number=Sing\t8\tflat:name\t_\tSpacesAfter= \\s\n"
     ]
    }
   ],
   "source": [
    "print(s[2])"
   ]
  },
  {
   "cell_type": "code",
   "execution_count": 159,
   "metadata": {},
   "outputs": [
    {
     "name": "stdout",
     "output_type": "stream",
     "text": [
      "1.0\n",
      "0.5\n",
      "but it was zero!\n",
      "0.25\n",
      "0.2\n"
     ]
    }
   ],
   "source": [
    "nums = [1, 2, 0, 4, 5]\n",
    "for num in nums:\n",
    "    try:\n",
    "        print(1/ num)\n",
    "    except ZeroDivisionError:\n",
    "        print('but it was zero!')"
   ]
  },
  {
   "cell_type": "code",
   "execution_count": 149,
   "metadata": {},
   "outputs": [],
   "source": [
    "graph = DependencyGraph(tree_str=s[0])"
   ]
  },
  {
   "cell_type": "code",
   "execution_count": 150,
   "metadata": {},
   "outputs": [
    {
     "data": {
      "text/plain": [
       "[(('анималист', 'NOUN'), 'nsubj', ('Олег', 'NOUN')),\n",
       " (('Олег', 'NOUN'), 'appos', ('Цингер', 'PROPN')),\n",
       " (('анималист', 'NOUN'), 'advmod', ('только', 'PART')),\n",
       " (('только', 'PART'), 'advmod', ('не', 'PART')),\n",
       " (('анималист', 'NOUN'), 'punct', (',', 'PUNCT')),\n",
       " (('анималист', 'NOUN'), 'conj', ('пишет', 'VERB')),\n",
       " (('пишет', 'VERB'), 'nsubj', ('он', 'PRON')),\n",
       " (('пишет', 'VERB'), 'obj', ('пейзажи', 'NOUN')),\n",
       " (('пейзажи', 'NOUN'), 'punct', (',', 'PUNCT')),\n",
       " (('анималист', 'NOUN'), 'conj', ('делает', 'VERB')),\n",
       " (('делает', 'VERB'), 'obj', ('иллюстрации', 'NOUN')),\n",
       " (('иллюстрации', 'NOUN'), 'parataxis', ('маслом', 'NOUN')),\n",
       " (('маслом', 'NOUN'), 'punct', ('(', 'PUNCT')),\n",
       " (('маслом', 'NOUN'), 'punct', ('!', 'PUNCT')),\n",
       " (('маслом', 'NOUN'), 'punct', (')', 'PUNCT')),\n",
       " (('иллюстрации', 'NOUN'), 'nmod', ('Гоголю', 'PROPN')),\n",
       " (('Гоголю', 'PROPN'), 'case', ('к', 'ADP')),\n",
       " (('Гоголю', 'PROPN'), 'punct', (',', 'PUNCT')),\n",
       " (('анималист', 'NOUN'), 'conj', ('работает', 'VERB')),\n",
       " (('работает', 'VERB'), 'obl', ('диапазоне', 'NOUN')),\n",
       " (('диапазоне', 'NOUN'), 'case', ('в', 'ADP')),\n",
       " (('диапазоне', 'NOUN'), 'amod', ('широком', 'ADJ')),\n",
       " (('широком', 'ADJ'), 'advmod', ('довольно', 'ADV')),\n",
       " (('диапазоне', 'NOUN'), 'punct', ('.', 'PUNCT'))]"
      ]
     },
     "execution_count": 150,
     "metadata": {},
     "output_type": "execute_result"
    }
   ],
   "source": [
    "list(graph.triples())"
   ]
  },
  {
   "cell_type": "code",
   "execution_count": 78,
   "metadata": {},
   "outputs": [
    {
     "data": {
      "text/plain": [
       "OrderedDict([('id', 1),\n",
       "             ('form', 'Если'),\n",
       "             ('lemma', 'если'),\n",
       "             ('upostag', 'SCONJ'),\n",
       "             ('xpostag', None),\n",
       "             ('feats', None),\n",
       "             ('head', 4),\n",
       "             ('deprel', 'mark'),\n",
       "             ('deps', None),\n",
       "             ('misc', None)])"
      ]
     },
     "execution_count": 78,
     "metadata": {},
     "output_type": "execute_result"
    }
   ],
   "source": [
    "sents = parse(text)\n",
    "sent = sents[0]\n",
    "sent[0]"
   ]
  },
  {
   "cell_type": "code",
   "execution_count": 151,
   "metadata": {},
   "outputs": [
    {
     "name": "stdout",
     "output_type": "stream",
     "text": [
      "                                        анималист                                                  \n",
      "  __________________________________________|________________________________________               \n",
      " |    |      |          |                            делает                       работает         \n",
      " |    |      |          |                              |                             |              \n",
      " |    |      |        пишет                       иллюстрации                    диапазоне         \n",
      " |    |      |      ____|______              __________|____________           ______|________      \n",
      " |   Олег  только  |        пейзажи       маслом                  Гоголю      |      |     широком \n",
      " |    |      |     |           |      ______|__________         ____|_____    |      |        |     \n",
      " ,  Цингер   не    он          ,     (      !          )       к          ,   в      .     довольно\n",
      "\n",
      "None\n"
     ]
    }
   ],
   "source": [
    "tree = graph.tree()\n",
    "print(tree.pretty_print())"
   ]
  },
  {
   "cell_type": "code",
   "execution_count": null,
   "metadata": {},
   "outputs": [],
   "source": []
  }
 ],
 "metadata": {
  "kernelspec": {
   "display_name": "Python 3",
   "language": "python",
   "name": "python3"
  },
  "language_info": {
   "codemirror_mode": {
    "name": "ipython",
    "version": 3
   },
   "file_extension": ".py",
   "mimetype": "text/x-python",
   "name": "python",
   "nbconvert_exporter": "python",
   "pygments_lexer": "ipython3",
   "version": "3.7.3"
  }
 },
 "nbformat": 4,
 "nbformat_minor": 2
}
