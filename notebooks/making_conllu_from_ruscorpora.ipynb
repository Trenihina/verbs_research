{
 "cells": [
  {
   "cell_type": "code",
   "execution_count": 1,
   "metadata": {},
   "outputs": [],
   "source": [
    "import pandas as pd\n",
    "from conllu import parse\n",
    "\n",
    "from finding_my_triplets import create_path_and_file_name, read_preprocess_data, create_text_file"
   ]
  },
  {
   "cell_type": "code",
   "execution_count": 2,
   "metadata": {},
   "outputs": [],
   "source": [
    "name = 'izbavitsya-21'"
   ]
  },
  {
   "cell_type": "code",
   "execution_count": 3,
   "metadata": {},
   "outputs": [],
   "source": [
    "names = create_path_and_file_name(name)"
   ]
  },
  {
   "cell_type": "code",
   "execution_count": 4,
   "metadata": {},
   "outputs": [],
   "source": [
    "df = read_preprocess_data(names)"
   ]
  },
  {
   "cell_type": "code",
   "execution_count": 5,
   "metadata": {},
   "outputs": [
    {
     "data": {
      "text/html": [
       "<div>\n",
       "<style scoped>\n",
       "    .dataframe tbody tr th:only-of-type {\n",
       "        vertical-align: middle;\n",
       "    }\n",
       "\n",
       "    .dataframe tbody tr th {\n",
       "        vertical-align: top;\n",
       "    }\n",
       "\n",
       "    .dataframe thead th {\n",
       "        text-align: right;\n",
       "    }\n",
       "</style>\n",
       "<table border=\"1\" class=\"dataframe\">\n",
       "  <thead>\n",
       "    <tr style=\"text-align: right;\">\n",
       "      <th></th>\n",
       "      <th>Left context</th>\n",
       "      <th>Center</th>\n",
       "      <th>Punct</th>\n",
       "      <th>Right context</th>\n",
       "      <th>Created</th>\n",
       "      <th>Full context</th>\n",
       "    </tr>\n",
       "  </thead>\n",
       "  <tbody>\n",
       "    <tr>\n",
       "      <th>0</th>\n",
       "      <td>Хочу спросить совета ― можно ли</td>\n",
       "      <td>избавиться</td>\n",
       "      <td></td>\n",
       "      <td>от краски на брюках самостоятельно или</td>\n",
       "      <td>1970-2000</td>\n",
       "      <td>Хочу спросить совета ― можно ли избавиться от ...</td>\n",
       "    </tr>\n",
       "    <tr>\n",
       "      <th>1</th>\n",
       "      <td>сразу ― и хладнокровно от нее</td>\n",
       "      <td>избавился</td>\n",
       "      <td>,</td>\n",
       "      <td>сказать точнее ― оприходовал, загнал в пробирку</td>\n",
       "      <td>1991-2000</td>\n",
       "      <td>Ты это понял сразу ― и хладнокровно от нее изб...</td>\n",
       "    </tr>\n",
       "    <tr>\n",
       "      <th>2</th>\n",
       "      <td>нужно поскорей, словно от морока,</td>\n",
       "      <td>избавиться</td>\n",
       "      <td></td>\n",
       "      <td>от этих шариков, скрипящих и скрипящих</td>\n",
       "      <td>1991-2000</td>\n",
       "      <td>Всем существом хотелось повторить, а значит, б...</td>\n",
       "    </tr>\n",
       "    <tr>\n",
       "      <th>3</th>\n",
       "      <td>прежде надо бы унять тахикардию,</td>\n",
       "      <td>избавиться</td>\n",
       "      <td></td>\n",
       "      <td>от онемения едва ль не в</td>\n",
       "      <td>1991-2000</td>\n",
       "      <td>Навек уйти из павильона, так; но прежде надо б...</td>\n",
       "    </tr>\n",
       "    <tr>\n",
       "      <th>4</th>\n",
       "      <td>всякой надобности, лишь бы скорей</td>\n",
       "      <td>избавиться</td>\n",
       "      <td></td>\n",
       "      <td>от запаха валокордина, вновь вышел на</td>\n",
       "      <td>1991-2000</td>\n",
       "      <td>Без всякой надобности, лишь бы скорей избавить...</td>\n",
       "    </tr>\n",
       "  </tbody>\n",
       "</table>\n",
       "</div>"
      ],
      "text/plain": [
       "                        Left context        Center Punct  \\\n",
       "0    Хочу спросить совета ― можно ли   избавиться          \n",
       "1      сразу ― и хладнокровно от нее    избавился     ,    \n",
       "2  нужно поскорей, словно от морока,   избавиться          \n",
       "3   прежде надо бы унять тахикардию,   избавиться          \n",
       "4  всякой надобности, лишь бы скорей   избавиться          \n",
       "\n",
       "                                      Right context    Created  \\\n",
       "0           от краски на брюках самостоятельно или   1970-2000   \n",
       "1  сказать точнее ― оприходовал, загнал в пробирку   1991-2000   \n",
       "2           от этих шариков, скрипящих и скрипящих   1991-2000   \n",
       "3                         от онемения едва ль не в   1991-2000   \n",
       "4            от запаха валокордина, вновь вышел на   1991-2000   \n",
       "\n",
       "                                        Full context  \n",
       "0  Хочу спросить совета ― можно ли избавиться от ...  \n",
       "1  Ты это понял сразу ― и хладнокровно от нее изб...  \n",
       "2  Всем существом хотелось повторить, а значит, б...  \n",
       "3  Навек уйти из павильона, так; но прежде надо б...  \n",
       "4  Без всякой надобности, лишь бы скорей избавить...  "
      ]
     },
     "execution_count": 5,
     "metadata": {},
     "output_type": "execute_result"
    }
   ],
   "source": [
    "df.head()"
   ]
  },
  {
   "cell_type": "code",
   "execution_count": 6,
   "metadata": {},
   "outputs": [],
   "source": [
    "create_text_file(df, names)"
   ]
  },
  {
   "cell_type": "markdown",
   "metadata": {},
   "source": [
    "## Ввести названия файлов для парсера"
   ]
  },
  {
   "cell_type": "code",
   "execution_count": 7,
   "metadata": {
    "scrolled": true
   },
   "outputs": [
    {
     "name": "stdout",
     "output_type": "stream",
     "text": [
      "sents_izbavitsya-21.txt > parsed_sents_izbavitsya-21.conllu\n"
     ]
    }
   ],
   "source": [
    "print(names[1], names[2], sep = ' > ')"
   ]
  },
  {
   "cell_type": "code",
   "execution_count": 8,
   "metadata": {},
   "outputs": [
    {
     "name": "stderr",
     "output_type": "stream",
     "text": [
      "Loading UDPipe model: done.\n"
     ]
    }
   ],
   "source": [
    "!udpipe --tokenizer=presegmented --tag --parse\\\n",
    "    ../models/russian-syntagrus-ud-2.0-170801.udpipe sents_izbavitsya-21.txt > parsed_sents_izbavitsya-21.conllu"
   ]
  },
  {
   "cell_type": "markdown",
   "metadata": {},
   "source": [
    "## Распределение по годам"
   ]
  },
  {
   "cell_type": "code",
   "execution_count": 9,
   "metadata": {},
   "outputs": [],
   "source": [
    "from finding_my_triplets import read_conllu, get_all_triples, get_standart_date, get_indexes, \\\n",
    "count_necessary_triplets, show_preview_for_sent"
   ]
  },
  {
   "cell_type": "code",
   "execution_count": 10,
   "metadata": {
    "scrolled": true
   },
   "outputs": [],
   "source": [
    "# name = 'kasatsya-19-2'\n",
    "\n",
    "object_form = {'Case': 'Gen'}\n",
    "verb_lemmas = ['избавиться', 'избавляться']\n",
    "prep_in_var_of_constr = None\n",
    "prep_in_constr = ['от']\n",
    "\n",
    "necessary_time_period = (2000, 2049)"
   ]
  },
  {
   "cell_type": "code",
   "execution_count": 11,
   "metadata": {},
   "outputs": [],
   "source": [
    "names = create_path_and_file_name(name)\n",
    "df = read_preprocess_data(names)"
   ]
  },
  {
   "cell_type": "code",
   "execution_count": 12,
   "metadata": {},
   "outputs": [],
   "source": [
    "sentences = read_conllu(names[2])\n",
    "triplets = get_all_triples(sentences, verb_lemmas, object_form, prep_in_var_of_constr, prep_in_constr)\n",
    "ids = get_indexes(triplets) # индексы предложений, которые подходят и для которых узнаём дату"
   ]
  },
  {
   "cell_type": "code",
   "execution_count": 15,
   "metadata": {},
   "outputs": [],
   "source": [
    "# triplets"
   ]
  },
  {
   "cell_type": "code",
   "execution_count": 16,
   "metadata": {},
   "outputs": [],
   "source": [
    "distrib_by_time_periods = {\n",
    "    (1700, 1749): [],\n",
    "    (1750, 1799): [],\n",
    "    (1800, 1849): [],\n",
    "    (1850, 1899): [],\n",
    "    (1900, 1949): [],\n",
    "    (1950, 1999): [],\n",
    "    (2000, 2049): []\n",
    "}\n",
    "\n",
    "for ind in ids:\n",
    "    date = df.iloc[ind].Created # получение по индексу даты создания из DataFrame\n",
    "    date = get_standart_date(date)\n",
    "    date = int(date)\n",
    "    for start_year, end_year in distrib_by_time_periods:\n",
    "        if date >= start_year and date <= end_year:\n",
    "            distrib_by_time_periods[(start_year, end_year)].append(ind)"
   ]
  },
  {
   "cell_type": "code",
   "execution_count": 17,
   "metadata": {},
   "outputs": [],
   "source": [
    "sent_ids = distrib_by_time_periods[necessary_time_period]\n",
    "necessary_triplets = []\n",
    "for triplet in triplets:\n",
    "    if 'object' in triplet and triplet['id'] in sent_ids:\n",
    "        necessary_triplets.append(triplet)"
   ]
  },
  {
   "cell_type": "code",
   "execution_count": 18,
   "metadata": {},
   "outputs": [
    {
     "name": "stdout",
     "output_type": "stream",
     "text": [
      "id 480 избавиться полностью от культуральности , как основы\n"
     ]
    },
    {
     "data": {
      "text/plain": [
       "1"
      ]
     },
     "execution_count": 18,
     "metadata": {},
     "output_type": "execute_result"
    }
   ],
   "source": [
    "count_necessary_triplets(necessary_triplets, sentences)"
   ]
  },
  {
   "cell_type": "code",
   "execution_count": 19,
   "metadata": {
    "scrolled": true
   },
   "outputs": [
    {
     "data": {
      "text/plain": [
       "TokenList<Хочу, спросить, совета, ―, можно, ли, избавиться, от, краски, на, брюках, самостоятельно, или, лучше, обратиться, к, специалистам, ?>"
      ]
     },
     "execution_count": 19,
     "metadata": {},
     "output_type": "execute_result"
    }
   ],
   "source": [
    "sentences[0]"
   ]
  },
  {
   "cell_type": "code",
   "execution_count": 20,
   "metadata": {},
   "outputs": [
    {
     "data": {
      "text/plain": [
       "571"
      ]
     },
     "execution_count": 20,
     "metadata": {},
     "output_type": "execute_result"
    }
   ],
   "source": [
    "len(triplets)"
   ]
  }
 ],
 "metadata": {
  "kernelspec": {
   "display_name": "Python 3",
   "language": "python",
   "name": "python3"
  },
  "language_info": {
   "codemirror_mode": {
    "name": "ipython",
    "version": 3
   },
   "file_extension": ".py",
   "mimetype": "text/x-python",
   "name": "python",
   "nbconvert_exporter": "python",
   "pygments_lexer": "ipython3",
   "version": "3.7.3"
  }
 },
 "nbformat": 4,
 "nbformat_minor": 2
}
