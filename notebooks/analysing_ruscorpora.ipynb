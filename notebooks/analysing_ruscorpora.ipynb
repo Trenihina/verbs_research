{
 "cells": [
  {
   "cell_type": "code",
   "execution_count": 1,
   "metadata": {},
   "outputs": [],
   "source": [
    "import pandas as pd"
   ]
  },
  {
   "cell_type": "code",
   "execution_count": 2,
   "metadata": {},
   "outputs": [],
   "source": [
    "from conllu import parse"
   ]
  },
  {
   "cell_type": "code",
   "execution_count": null,
   "metadata": {},
   "outputs": [],
   "source": [
    "# path = \n",
    "# text_file_name = "
   ]
  },
  {
   "cell_type": "code",
   "execution_count": 3,
   "metadata": {},
   "outputs": [],
   "source": [
    "df = pd.read_excel('../data/data_pisat_k_Dat.xlsx')"
   ]
  },
  {
   "cell_type": "code",
   "execution_count": 8,
   "metadata": {},
   "outputs": [
    {
     "data": {
      "text/html": [
       "<div>\n",
       "<style scoped>\n",
       "    .dataframe tbody tr th:only-of-type {\n",
       "        vertical-align: middle;\n",
       "    }\n",
       "\n",
       "    .dataframe tbody tr th {\n",
       "        vertical-align: top;\n",
       "    }\n",
       "\n",
       "    .dataframe thead th {\n",
       "        text-align: right;\n",
       "    }\n",
       "</style>\n",
       "<table border=\"1\" class=\"dataframe\">\n",
       "  <thead>\n",
       "    <tr style=\"text-align: right;\">\n",
       "      <th></th>\n",
       "      <th>Left context</th>\n",
       "      <th>Center</th>\n",
       "      <th>Punct</th>\n",
       "      <th>Right context</th>\n",
       "      <th>Created</th>\n",
       "      <th>Full context</th>\n",
       "    </tr>\n",
       "  </thead>\n",
       "  <tbody>\n",
       "    <tr>\n",
       "      <th>0</th>\n",
       "      <td>о котором я уже</td>\n",
       "      <td>писал</td>\n",
       "      <td></td>\n",
       "      <td>в статье \" Мастер к</td>\n",
       "      <td>2004</td>\n",
       "      <td>Это делают мастерицы московского клуба \" Красн...</td>\n",
       "    </tr>\n",
       "    <tr>\n",
       "      <th>1</th>\n",
       "      <td>Он</td>\n",
       "      <td>писал</td>\n",
       "      <td></td>\n",
       "      <td>о любви к Алевтине, о</td>\n",
       "      <td>1998</td>\n",
       "      <td>Он писал о любви к Алевтине, о том, что не при...</td>\n",
       "    </tr>\n",
       "    <tr>\n",
       "      <th>2</th>\n",
       "      <td>не только анималист, он</td>\n",
       "      <td>пишет</td>\n",
       "      <td></td>\n",
       "      <td>пейзажи, делает иллюстрации  (</td>\n",
       "      <td>1987</td>\n",
       "      <td>Олег Цингер не только анималист, он пишет пейз...</td>\n",
       "    </tr>\n",
       "    <tr>\n",
       "      <th>3</th>\n",
       "      <td>замечательно не только личностью</td>\n",
       "      <td>пишущего</td>\n",
       "      <td>,</td>\n",
       "      <td>его горячим чувством к Фоме,</td>\n",
       "      <td>1987</td>\n",
       "      <td>Письмо француза замечательно не только личност...</td>\n",
       "    </tr>\n",
       "    <tr>\n",
       "      <th>4</th>\n",
       "      <td>этой мизерабельной своей наружности говорил,</td>\n",
       "      <td>писал</td>\n",
       "      <td>,</td>\n",
       "      <td>горевал!) ― а какой это,</td>\n",
       "      <td>1923</td>\n",
       "      <td>Ведь вот, и наружность, пожалуй, чиновничья, «...</td>\n",
       "    </tr>\n",
       "  </tbody>\n",
       "</table>\n",
       "</div>"
      ],
      "text/plain": [
       "                                   Left context      Center Punct  \\\n",
       "0                              о котором я уже       писал          \n",
       "1                                           Он       писал          \n",
       "2                      не только анималист, он       пишет          \n",
       "3             замечательно не только личностью    пишущего      ,   \n",
       "4  этой мизерабельной своей наружности говорил,      писал      ,   \n",
       "\n",
       "                    Right context Created  \\\n",
       "0            в статье \" Мастер к     2004   \n",
       "1           о любви к Алевтине, о    1998   \n",
       "2  пейзажи, делает иллюстрации  (    1987   \n",
       "3    его горячим чувством к Фоме,    1987   \n",
       "4        горевал!) ― а какой это,    1923   \n",
       "\n",
       "                                        Full context  \n",
       "0  Это делают мастерицы московского клуба \" Красн...  \n",
       "1  Он писал о любви к Алевтине, о том, что не при...  \n",
       "2  Олег Цингер не только анималист, он пишет пейз...  \n",
       "3  Письмо француза замечательно не только личност...  \n",
       "4  Ведь вот, и наружность, пожалуй, чиновничья, «...  "
      ]
     },
     "execution_count": 8,
     "metadata": {},
     "output_type": "execute_result"
    }
   ],
   "source": [
    "df.head()"
   ]
  },
  {
   "cell_type": "code",
   "execution_count": 5,
   "metadata": {},
   "outputs": [
    {
     "data": {
      "text/plain": [
       "610"
      ]
     },
     "execution_count": 5,
     "metadata": {},
     "output_type": "execute_result"
    }
   ],
   "source": [
    "df.shape[0]"
   ]
  },
  {
   "cell_type": "code",
   "execution_count": 6,
   "metadata": {},
   "outputs": [
    {
     "data": {
      "text/plain": [
       "Index(['Reversed left context', 'Reversed center', 'Left context', 'Center',\n",
       "       'Punct', 'Right context', 'Title', 'Author', 'Birthday', 'Header',\n",
       "       'Created', 'Sphere', 'Type', 'Topic', 'Publication', 'Publ_year',\n",
       "       'Medium', 'Ambiguity', 'Full context'],\n",
       "      dtype='object')"
      ]
     },
     "execution_count": 6,
     "metadata": {},
     "output_type": "execute_result"
    }
   ],
   "source": [
    "df.columns"
   ]
  },
  {
   "cell_type": "code",
   "execution_count": 7,
   "metadata": {},
   "outputs": [],
   "source": [
    "df.drop(columns=['Reversed left context', 'Reversed center', 'Title', 'Author', 'Birthday', 'Header', 'Publ_year', \n",
    "             'Medium', 'Ambiguity', 'Publication', 'Sphere', 'Type', 'Topic'], inplace = True)"
   ]
  },
  {
   "cell_type": "code",
   "execution_count": 9,
   "metadata": {},
   "outputs": [
    {
     "data": {
      "text/plain": [
       "count      610\n",
       "unique     230\n",
       "top       1999\n",
       "freq        16\n",
       "Name: Created, dtype: object"
      ]
     },
     "execution_count": 9,
     "metadata": {},
     "output_type": "execute_result"
    }
   ],
   "source": [
    "df['Created'].describe()"
   ]
  },
  {
   "cell_type": "code",
   "execution_count": 10,
   "metadata": {},
   "outputs": [],
   "source": [
    "with open('sents_pisat_k_Dat.txt', 'a', encoding = \"UTF-8\") as f:\n",
    "    for i in range(df.shape[0]):\n",
    "        sent = df['Full context'][i]\n",
    "        f.write(sent[:sent.find('[')-1] + '\\n')"
   ]
  },
  {
   "cell_type": "code",
   "execution_count": 29,
   "metadata": {},
   "outputs": [
    {
     "name": "stderr",
     "output_type": "stream",
     "text": [
      "Loading UDPipe model: done.\n"
     ]
    }
   ],
   "source": [
    "!udpipe --tokenize --tag --parse\\\n",
    "    ../models/russian-syntagrus-ud-2.0-170801.udpipe sents_pisat_k_Dat.txt > parsed_sents_pisat_k_Dat.conllu"
   ]
  },
  {
   "cell_type": "code",
   "execution_count": 16,
   "metadata": {},
   "outputs": [],
   "source": [
    "with open('parsed_sents_pisat_k_Dat.conllu', 'r', encoding = \"UTF-8\") as f:\n",
    "    parsed_sents_pisat_k_Dat = f.read()"
   ]
  },
  {
   "cell_type": "markdown",
   "metadata": {},
   "source": [
    "## Парсим предложения для питона"
   ]
  },
  {
   "cell_type": "code",
   "execution_count": 17,
   "metadata": {},
   "outputs": [],
   "source": [
    "sentences = parse(parsed_sents_pisat_k_Dat)"
   ]
  },
  {
   "cell_type": "code",
   "execution_count": 64,
   "metadata": {},
   "outputs": [
    {
     "data": {
      "text/plain": [
       "OrderedDict([('Animacy', 'Anim'),\n",
       "             ('Case', 'Dat'),\n",
       "             ('Gender', 'Fem'),\n",
       "             ('Number', 'Sing')])"
      ]
     },
     "execution_count": 64,
     "metadata": {},
     "output_type": "execute_result"
    }
   ],
   "source": [
    "sentences[6][5]['feats']"
   ]
  },
  {
   "cell_type": "code",
   "execution_count": 65,
   "metadata": {},
   "outputs": [],
   "source": [
    "object_form = {'Case': 'Dat', 'Animacy': 'Anim'}\n",
    "verb = 'писать'\n",
    "preposition = 'к'"
   ]
  },
  {
   "cell_type": "code",
   "execution_count": 88,
   "metadata": {},
   "outputs": [],
   "source": [
    "def check_object(token, object_form):\n",
    "    if 'Foreign' in token['feats'] and token['feats']['Foreign'] == 'Yes':\n",
    "        return False\n",
    "    for feature in object_form:\n",
    "        try:\n",
    "            if token['feats'][feature] != object_form[feature]:\n",
    "                return False\n",
    "        except KeyError:\n",
    "            print(token)\n",
    "    return True"
   ]
  },
  {
   "cell_type": "code",
   "execution_count": 89,
   "metadata": {},
   "outputs": [],
   "source": [
    "def find_triplet_in_sentence(sent, verb, object_form, preposition=None):\n",
    "    # TODO: подумать про случаи, когда несколько подходящих глаголов в предложении\n",
    "    triplet = {}\n",
    "    verb_id = None\n",
    "    object_id = None\n",
    "    for token in sent:\n",
    "        \n",
    "        # ищем id глагола, чтобы потом искать его зависимые\n",
    "        if token['lemma'] == verb:\n",
    "            verb_id = token['id']\n",
    "            triplet['verb'] = token['form']\n",
    "            \n",
    "        # ищем зависимые (NB: в нашем случае зависимые всегда идут после глагола, поэтому в одном цикле)\n",
    "        if token['head'] == verb_id:\n",
    "            if token['upostag'] in ['NOUN', 'PROPN'] and check_object(token, object_form):\n",
    "                object_id = token['id']\n",
    "                triplet['object'] = token['form']\n",
    "                break # мы нашли объект (TODO: bla bla)\n",
    "                \n",
    "    if preposition: # looking for a preposition, if there is\n",
    "        for token in sent:\n",
    "            if token['head'] == object_id and token['form'] == preposition:\n",
    "                triplet['preposition'] = preposition\n",
    "           \n",
    "    return triplet"
   ]
  },
  {
   "cell_type": "code",
   "execution_count": 96,
   "metadata": {},
   "outputs": [
    {
     "data": {
      "text/plain": [
       "{'verb': 'писали', 'object': 'человеку', 'preposition': 'к'}"
      ]
     },
     "execution_count": 96,
     "metadata": {},
     "output_type": "execute_result"
    }
   ],
   "source": [
    "find_triplet_in_sentence(sentences[5], 'писать', object_form, preposition='к')"
   ]
  },
  {
   "cell_type": "code",
   "execution_count": 100,
   "metadata": {},
   "outputs": [],
   "source": [
    "def get_all_triples(sentences, verb, object_form, preposition=None):\n",
    "    triples = []\n",
    "    for sent in sentences:\n",
    "        triples.append(find_triplet_in_sentence(sent, verb, object_form, preposition))\n",
    "    return triples"
   ]
  },
  {
   "cell_type": "code",
   "execution_count": 101,
   "metadata": {},
   "outputs": [],
   "source": [
    "triples = get_all_triples(sentences, verb, object_form, preposition='к')"
   ]
  },
  {
   "cell_type": "code",
   "execution_count": 102,
   "metadata": {},
   "outputs": [
    {
     "data": {
      "text/plain": [
       "[{'verb': 'писал'},\n",
       " {'verb': 'писал'},\n",
       " {'verb': 'пишет'},\n",
       " {},\n",
       " {},\n",
       " {'verb': 'писали', 'object': 'человеку', 'preposition': 'к'},\n",
       " {'verb': 'писать', 'object': 'Анне', 'preposition': 'к'},\n",
       " {'verb': 'писал'},\n",
       " {'verb': 'пишет'},\n",
       " {'verb': 'писал'}]"
      ]
     },
     "execution_count": 102,
     "metadata": {},
     "output_type": "execute_result"
    }
   ],
   "source": [
    "triples[:10]"
   ]
  },
  {
   "cell_type": "markdown",
   "metadata": {},
   "source": [
    "## Пример\n",
    "касаться до gen vs. касаться gen (от касаться зависит NOUN/PROPN + case-Gen (?) и не зависит до)"
   ]
  },
  {
   "cell_type": "code",
   "execution_count": null,
   "metadata": {},
   "outputs": [],
   "source": []
  }
 ],
 "metadata": {
  "kernelspec": {
   "display_name": "Python 3",
   "language": "python",
   "name": "python3"
  },
  "language_info": {
   "codemirror_mode": {
    "name": "ipython",
    "version": 3
   },
   "file_extension": ".py",
   "mimetype": "text/x-python",
   "name": "python",
   "nbconvert_exporter": "python",
   "pygments_lexer": "ipython3",
   "version": "3.7.3"
  }
 },
 "nbformat": 4,
 "nbformat_minor": 2
}
